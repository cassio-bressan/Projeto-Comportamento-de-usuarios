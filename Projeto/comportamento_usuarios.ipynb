{
 "cells": [
  {
   "cell_type": "markdown",
   "metadata": {},
   "source": [
    "# Descrição dos dados\n",
    "\n",
    "``EventName`` — nome do evento\n",
    "\n",
    "``DeviceIDHash`` — identificador de usuário exclusivo\n",
    "\n",
    "``EventTimestamp`` — hora do evento\n",
    "\n",
    "``ExpId`` — número do experimento: 246 e 247 são os grupos de controle, 248 é o grupo de teste"
   ]
  },
  {
   "cell_type": "code",
   "execution_count": 129,
   "metadata": {},
   "outputs": [],
   "source": [
    "# Importando bibliotecas.\n",
    "import pandas as pd\n",
    "import numpy as np\n",
    "import seaborn as sns\n",
    "import matplotlib.pyplot as plt\n",
    "from scipy import stats as st\n",
    "from statsmodels.stats.proportion import proportions_ztest as pz"
   ]
  },
  {
   "cell_type": "code",
   "execution_count": 130,
   "metadata": {},
   "outputs": [],
   "source": [
    "# Carregando a tabela de dados.\n",
    "try:\n",
    "    df = pd.read_csv('/datasets/logs_exp_us.csv', sep='\\t')\n",
    "\n",
    "except:\n",
    "    df = pd.read_csv(r\"C:\\Users\\cassi\\GitHub\\Projeto11__Tripleten-Bootcamp\\Dados\\logs_exp_us.csv\", sep='\\t')"
   ]
  },
  {
   "cell_type": "code",
   "execution_count": 131,
   "metadata": {},
   "outputs": [
    {
     "name": "stdout",
     "output_type": "stream",
     "text": [
      "<class 'pandas.core.frame.DataFrame'>\n",
      "RangeIndex: 244126 entries, 0 to 244125\n",
      "Data columns (total 4 columns):\n",
      " #   Column          Non-Null Count   Dtype \n",
      "---  ------          --------------   ----- \n",
      " 0   EventName       244126 non-null  object\n",
      " 1   DeviceIDHash    244126 non-null  int64 \n",
      " 2   EventTimestamp  244126 non-null  int64 \n",
      " 3   ExpId           244126 non-null  int64 \n",
      "dtypes: int64(3), object(1)\n",
      "memory usage: 7.5+ MB\n"
     ]
    }
   ],
   "source": [
    "# Verificando informações da tabela de dados.\n",
    "df.info()"
   ]
  },
  {
   "cell_type": "code",
   "execution_count": 132,
   "metadata": {},
   "outputs": [
    {
     "data": {
      "application/vnd.microsoft.datawrangler.viewer.v0+json": {
       "columns": [
        {
         "name": "index",
         "rawType": "int64",
         "type": "integer"
        },
        {
         "name": "EventName",
         "rawType": "object",
         "type": "string"
        },
        {
         "name": "DeviceIDHash",
         "rawType": "int64",
         "type": "integer"
        },
        {
         "name": "EventTimestamp",
         "rawType": "int64",
         "type": "integer"
        },
        {
         "name": "ExpId",
         "rawType": "int64",
         "type": "integer"
        }
       ],
       "ref": "845f3260-dff3-47db-b291-fc91da1758fc",
       "rows": [
        [
         "76547",
         "MainScreenAppear",
         "3025649757727336502",
         "1564808939",
         "246"
        ],
        [
         "2772",
         "MainScreenAppear",
         "1615677818169862243",
         "1564614857",
         "247"
        ],
        [
         "132251",
         "OffersScreenAppear",
         "3783993475053044166",
         "1564935696",
         "247"
        ],
        [
         "41079",
         "PaymentScreenSuccessful",
         "6304868067479728361",
         "1564714433",
         "248"
        ],
        [
         "138065",
         "MainScreenAppear",
         "1351222438078767488",
         "1564946622",
         "246"
        ],
        [
         "147318",
         "MainScreenAppear",
         "8169912674018207278",
         "1564991758",
         "247"
        ],
        [
         "78225",
         "CartScreenAppear",
         "6179875053469512240",
         "1564813995",
         "247"
        ],
        [
         "233458",
         "PaymentScreenSuccessful",
         "1055544042902443290",
         "1565190839",
         "246"
        ],
        [
         "174009",
         "MainScreenAppear",
         "6483696045451304132",
         "1565033183",
         "247"
        ],
        [
         "134074",
         "MainScreenAppear",
         "8591672416652564856",
         "1564938613",
         "247"
        ]
       ],
       "shape": {
        "columns": 4,
        "rows": 10
       }
      },
      "text/html": [
       "<div>\n",
       "<style scoped>\n",
       "    .dataframe tbody tr th:only-of-type {\n",
       "        vertical-align: middle;\n",
       "    }\n",
       "\n",
       "    .dataframe tbody tr th {\n",
       "        vertical-align: top;\n",
       "    }\n",
       "\n",
       "    .dataframe thead th {\n",
       "        text-align: right;\n",
       "    }\n",
       "</style>\n",
       "<table border=\"1\" class=\"dataframe\">\n",
       "  <thead>\n",
       "    <tr style=\"text-align: right;\">\n",
       "      <th></th>\n",
       "      <th>EventName</th>\n",
       "      <th>DeviceIDHash</th>\n",
       "      <th>EventTimestamp</th>\n",
       "      <th>ExpId</th>\n",
       "    </tr>\n",
       "  </thead>\n",
       "  <tbody>\n",
       "    <tr>\n",
       "      <th>76547</th>\n",
       "      <td>MainScreenAppear</td>\n",
       "      <td>3025649757727336502</td>\n",
       "      <td>1564808939</td>\n",
       "      <td>246</td>\n",
       "    </tr>\n",
       "    <tr>\n",
       "      <th>2772</th>\n",
       "      <td>MainScreenAppear</td>\n",
       "      <td>1615677818169862243</td>\n",
       "      <td>1564614857</td>\n",
       "      <td>247</td>\n",
       "    </tr>\n",
       "    <tr>\n",
       "      <th>132251</th>\n",
       "      <td>OffersScreenAppear</td>\n",
       "      <td>3783993475053044166</td>\n",
       "      <td>1564935696</td>\n",
       "      <td>247</td>\n",
       "    </tr>\n",
       "    <tr>\n",
       "      <th>41079</th>\n",
       "      <td>PaymentScreenSuccessful</td>\n",
       "      <td>6304868067479728361</td>\n",
       "      <td>1564714433</td>\n",
       "      <td>248</td>\n",
       "    </tr>\n",
       "    <tr>\n",
       "      <th>138065</th>\n",
       "      <td>MainScreenAppear</td>\n",
       "      <td>1351222438078767488</td>\n",
       "      <td>1564946622</td>\n",
       "      <td>246</td>\n",
       "    </tr>\n",
       "    <tr>\n",
       "      <th>147318</th>\n",
       "      <td>MainScreenAppear</td>\n",
       "      <td>8169912674018207278</td>\n",
       "      <td>1564991758</td>\n",
       "      <td>247</td>\n",
       "    </tr>\n",
       "    <tr>\n",
       "      <th>78225</th>\n",
       "      <td>CartScreenAppear</td>\n",
       "      <td>6179875053469512240</td>\n",
       "      <td>1564813995</td>\n",
       "      <td>247</td>\n",
       "    </tr>\n",
       "    <tr>\n",
       "      <th>233458</th>\n",
       "      <td>PaymentScreenSuccessful</td>\n",
       "      <td>1055544042902443290</td>\n",
       "      <td>1565190839</td>\n",
       "      <td>246</td>\n",
       "    </tr>\n",
       "    <tr>\n",
       "      <th>174009</th>\n",
       "      <td>MainScreenAppear</td>\n",
       "      <td>6483696045451304132</td>\n",
       "      <td>1565033183</td>\n",
       "      <td>247</td>\n",
       "    </tr>\n",
       "    <tr>\n",
       "      <th>134074</th>\n",
       "      <td>MainScreenAppear</td>\n",
       "      <td>8591672416652564856</td>\n",
       "      <td>1564938613</td>\n",
       "      <td>247</td>\n",
       "    </tr>\n",
       "  </tbody>\n",
       "</table>\n",
       "</div>"
      ],
      "text/plain": [
       "                      EventName         DeviceIDHash  EventTimestamp  ExpId\n",
       "76547          MainScreenAppear  3025649757727336502      1564808939    246\n",
       "2772           MainScreenAppear  1615677818169862243      1564614857    247\n",
       "132251       OffersScreenAppear  3783993475053044166      1564935696    247\n",
       "41079   PaymentScreenSuccessful  6304868067479728361      1564714433    248\n",
       "138065         MainScreenAppear  1351222438078767488      1564946622    246\n",
       "147318         MainScreenAppear  8169912674018207278      1564991758    247\n",
       "78225          CartScreenAppear  6179875053469512240      1564813995    247\n",
       "233458  PaymentScreenSuccessful  1055544042902443290      1565190839    246\n",
       "174009         MainScreenAppear  6483696045451304132      1565033183    247\n",
       "134074         MainScreenAppear  8591672416652564856      1564938613    247"
      ]
     },
     "execution_count": 132,
     "metadata": {},
     "output_type": "execute_result"
    }
   ],
   "source": [
    "# Carregando uma amostra dos dados.\n",
    "df.sample(10)"
   ]
  },
  {
   "cell_type": "markdown",
   "metadata": {},
   "source": [
    "## Tratamento de dados"
   ]
  },
  {
   "cell_type": "code",
   "execution_count": 133,
   "metadata": {},
   "outputs": [],
   "source": [
    "# Convertendo os dados para o tipo correto.\n",
    "df['DeviceIDHash'] = df['DeviceIDHash'].astype('uint32')\n",
    "df['ExpId'] = df['ExpId'].astype('uint8')\n",
    "df['EventTimestamp'] = pd.to_datetime(df['EventTimestamp'], unit='s')"
   ]
  },
  {
   "cell_type": "code",
   "execution_count": 134,
   "metadata": {},
   "outputs": [
    {
     "name": "stdout",
     "output_type": "stream",
     "text": [
      "Index(['eventname', 'deviceidhash', 'eventtimestamp', 'expid'], dtype='object')\n"
     ]
    }
   ],
   "source": [
    "#  Convertendo os nomes das colunas para minúsculos.\n",
    "def lowercase_columns(df):\n",
    "    new_columns = [col.lower() for col in df.columns]\n",
    "    df.columns = new_columns\n",
    "    return df\n",
    "\n",
    "\n",
    "df = lowercase_columns(df)\n",
    "print(df.columns)   "
   ]
  },
  {
   "cell_type": "code",
   "execution_count": 135,
   "metadata": {},
   "outputs": [
    {
     "name": "stdout",
     "output_type": "stream",
     "text": [
      "Index(['event_name', 'device_id_hash', 'event_timestamp', 'exp_id'], dtype='object')\n"
     ]
    }
   ],
   "source": [
    "# Corrigindo o espaçamento dos nomes das colunas.\n",
    "new_names = {\n",
    "    'eventname' : 'event_name',\n",
    "    'deviceidhash': 'device_id_hash',\n",
    "    'eventtimestamp': 'event_timestamp',\n",
    "    'expid' : 'exp_id'\n",
    "}\n",
    "df.rename(columns=new_names, inplace=True)\n",
    "print(df.columns)"
   ]
  },
  {
   "cell_type": "code",
   "execution_count": 136,
   "metadata": {},
   "outputs": [],
   "source": [
    "# Agregando novas colunas para dia, mês e ano.\n",
    "df['day'] = df['event_timestamp'].dt.day\n",
    "df['month'] = df['event_timestamp'].dt.month\n",
    "df['date'] = df['event_timestamp'].dt.date\n",
    "df['date'] = pd.to_datetime(df['date'])\n",
    "df['time'] = df['event_timestamp'].dt.time\n",
    "df['hour'] = df['event_timestamp'].dt.hour"
   ]
  },
  {
   "cell_type": "code",
   "execution_count": 137,
   "metadata": {},
   "outputs": [
    {
     "data": {
      "application/vnd.microsoft.datawrangler.viewer.v0+json": {
       "columns": [
        {
         "name": "index",
         "rawType": "int64",
         "type": "integer"
        },
        {
         "name": "event_name",
         "rawType": "object",
         "type": "string"
        },
        {
         "name": "device_id_hash",
         "rawType": "uint32",
         "type": "integer"
        },
        {
         "name": "event_timestamp",
         "rawType": "datetime64[ns]",
         "type": "datetime"
        },
        {
         "name": "exp_id",
         "rawType": "uint8",
         "type": "integer"
        },
        {
         "name": "day",
         "rawType": "int32",
         "type": "integer"
        },
        {
         "name": "month",
         "rawType": "int32",
         "type": "integer"
        },
        {
         "name": "date",
         "rawType": "datetime64[ns]",
         "type": "datetime"
        },
        {
         "name": "time",
         "rawType": "object",
         "type": "unknown"
        },
        {
         "name": "hour",
         "rawType": "int32",
         "type": "integer"
        }
       ],
       "ref": "d1c99579-e524-4621-a034-a8a5dcc16143",
       "rows": [
        [
         "191715",
         "OffersScreenAppear",
         "36060601",
         "2019-08-06 11:30:29",
         "247",
         "6",
         "8",
         "2019-08-06 00:00:00",
         "11:30:29",
         "11"
        ],
        [
         "88549",
         "OffersScreenAppear",
         "2094089985",
         "2019-08-03 11:33:51",
         "246",
         "3",
         "8",
         "2019-08-03 00:00:00",
         "11:33:51",
         "11"
        ],
        [
         "86523",
         "MainScreenAppear",
         "455050711",
         "2019-08-03 10:49:17",
         "248",
         "3",
         "8",
         "2019-08-03 00:00:00",
         "10:49:17",
         "10"
        ],
        [
         "184437",
         "MainScreenAppear",
         "554505566",
         "2019-08-06 07:39:46",
         "246",
         "6",
         "8",
         "2019-08-06 00:00:00",
         "07:39:46",
         "7"
        ],
        [
         "181415",
         "MainScreenAppear",
         "3439116048",
         "2019-08-06 05:53:09",
         "248",
         "6",
         "8",
         "2019-08-06 00:00:00",
         "05:53:09",
         "5"
        ],
        [
         "183042",
         "MainScreenAppear",
         "1999008718",
         "2019-08-06 06:52:44",
         "246",
         "6",
         "8",
         "2019-08-06 00:00:00",
         "06:52:44",
         "6"
        ],
        [
         "101890",
         "MainScreenAppear",
         "1426076250",
         "2019-08-03 17:19:35",
         "246",
         "3",
         "8",
         "2019-08-03 00:00:00",
         "17:19:35",
         "17"
        ],
        [
         "100666",
         "PaymentScreenSuccessful",
         "3365784642",
         "2019-08-03 16:47:55",
         "248",
         "3",
         "8",
         "2019-08-03 00:00:00",
         "16:47:55",
         "16"
        ],
        [
         "27936",
         "MainScreenAppear",
         "3461697909",
         "2019-08-01 16:02:35",
         "247",
         "1",
         "8",
         "2019-08-01 00:00:00",
         "16:02:35",
         "16"
        ],
        [
         "102578",
         "CartScreenAppear",
         "4268228514",
         "2019-08-03 17:40:10",
         "246",
         "3",
         "8",
         "2019-08-03 00:00:00",
         "17:40:10",
         "17"
        ]
       ],
       "shape": {
        "columns": 9,
        "rows": 10
       }
      },
      "text/html": [
       "<div>\n",
       "<style scoped>\n",
       "    .dataframe tbody tr th:only-of-type {\n",
       "        vertical-align: middle;\n",
       "    }\n",
       "\n",
       "    .dataframe tbody tr th {\n",
       "        vertical-align: top;\n",
       "    }\n",
       "\n",
       "    .dataframe thead th {\n",
       "        text-align: right;\n",
       "    }\n",
       "</style>\n",
       "<table border=\"1\" class=\"dataframe\">\n",
       "  <thead>\n",
       "    <tr style=\"text-align: right;\">\n",
       "      <th></th>\n",
       "      <th>event_name</th>\n",
       "      <th>device_id_hash</th>\n",
       "      <th>event_timestamp</th>\n",
       "      <th>exp_id</th>\n",
       "      <th>day</th>\n",
       "      <th>month</th>\n",
       "      <th>date</th>\n",
       "      <th>time</th>\n",
       "      <th>hour</th>\n",
       "    </tr>\n",
       "  </thead>\n",
       "  <tbody>\n",
       "    <tr>\n",
       "      <th>191715</th>\n",
       "      <td>OffersScreenAppear</td>\n",
       "      <td>36060601</td>\n",
       "      <td>2019-08-06 11:30:29</td>\n",
       "      <td>247</td>\n",
       "      <td>6</td>\n",
       "      <td>8</td>\n",
       "      <td>2019-08-06</td>\n",
       "      <td>11:30:29</td>\n",
       "      <td>11</td>\n",
       "    </tr>\n",
       "    <tr>\n",
       "      <th>88549</th>\n",
       "      <td>OffersScreenAppear</td>\n",
       "      <td>2094089985</td>\n",
       "      <td>2019-08-03 11:33:51</td>\n",
       "      <td>246</td>\n",
       "      <td>3</td>\n",
       "      <td>8</td>\n",
       "      <td>2019-08-03</td>\n",
       "      <td>11:33:51</td>\n",
       "      <td>11</td>\n",
       "    </tr>\n",
       "    <tr>\n",
       "      <th>86523</th>\n",
       "      <td>MainScreenAppear</td>\n",
       "      <td>455050711</td>\n",
       "      <td>2019-08-03 10:49:17</td>\n",
       "      <td>248</td>\n",
       "      <td>3</td>\n",
       "      <td>8</td>\n",
       "      <td>2019-08-03</td>\n",
       "      <td>10:49:17</td>\n",
       "      <td>10</td>\n",
       "    </tr>\n",
       "    <tr>\n",
       "      <th>184437</th>\n",
       "      <td>MainScreenAppear</td>\n",
       "      <td>554505566</td>\n",
       "      <td>2019-08-06 07:39:46</td>\n",
       "      <td>246</td>\n",
       "      <td>6</td>\n",
       "      <td>8</td>\n",
       "      <td>2019-08-06</td>\n",
       "      <td>07:39:46</td>\n",
       "      <td>7</td>\n",
       "    </tr>\n",
       "    <tr>\n",
       "      <th>181415</th>\n",
       "      <td>MainScreenAppear</td>\n",
       "      <td>3439116048</td>\n",
       "      <td>2019-08-06 05:53:09</td>\n",
       "      <td>248</td>\n",
       "      <td>6</td>\n",
       "      <td>8</td>\n",
       "      <td>2019-08-06</td>\n",
       "      <td>05:53:09</td>\n",
       "      <td>5</td>\n",
       "    </tr>\n",
       "    <tr>\n",
       "      <th>183042</th>\n",
       "      <td>MainScreenAppear</td>\n",
       "      <td>1999008718</td>\n",
       "      <td>2019-08-06 06:52:44</td>\n",
       "      <td>246</td>\n",
       "      <td>6</td>\n",
       "      <td>8</td>\n",
       "      <td>2019-08-06</td>\n",
       "      <td>06:52:44</td>\n",
       "      <td>6</td>\n",
       "    </tr>\n",
       "    <tr>\n",
       "      <th>101890</th>\n",
       "      <td>MainScreenAppear</td>\n",
       "      <td>1426076250</td>\n",
       "      <td>2019-08-03 17:19:35</td>\n",
       "      <td>246</td>\n",
       "      <td>3</td>\n",
       "      <td>8</td>\n",
       "      <td>2019-08-03</td>\n",
       "      <td>17:19:35</td>\n",
       "      <td>17</td>\n",
       "    </tr>\n",
       "    <tr>\n",
       "      <th>100666</th>\n",
       "      <td>PaymentScreenSuccessful</td>\n",
       "      <td>3365784642</td>\n",
       "      <td>2019-08-03 16:47:55</td>\n",
       "      <td>248</td>\n",
       "      <td>3</td>\n",
       "      <td>8</td>\n",
       "      <td>2019-08-03</td>\n",
       "      <td>16:47:55</td>\n",
       "      <td>16</td>\n",
       "    </tr>\n",
       "    <tr>\n",
       "      <th>27936</th>\n",
       "      <td>MainScreenAppear</td>\n",
       "      <td>3461697909</td>\n",
       "      <td>2019-08-01 16:02:35</td>\n",
       "      <td>247</td>\n",
       "      <td>1</td>\n",
       "      <td>8</td>\n",
       "      <td>2019-08-01</td>\n",
       "      <td>16:02:35</td>\n",
       "      <td>16</td>\n",
       "    </tr>\n",
       "    <tr>\n",
       "      <th>102578</th>\n",
       "      <td>CartScreenAppear</td>\n",
       "      <td>4268228514</td>\n",
       "      <td>2019-08-03 17:40:10</td>\n",
       "      <td>246</td>\n",
       "      <td>3</td>\n",
       "      <td>8</td>\n",
       "      <td>2019-08-03</td>\n",
       "      <td>17:40:10</td>\n",
       "      <td>17</td>\n",
       "    </tr>\n",
       "  </tbody>\n",
       "</table>\n",
       "</div>"
      ],
      "text/plain": [
       "                     event_name  device_id_hash     event_timestamp  exp_id  \\\n",
       "191715       OffersScreenAppear        36060601 2019-08-06 11:30:29     247   \n",
       "88549        OffersScreenAppear      2094089985 2019-08-03 11:33:51     246   \n",
       "86523          MainScreenAppear       455050711 2019-08-03 10:49:17     248   \n",
       "184437         MainScreenAppear       554505566 2019-08-06 07:39:46     246   \n",
       "181415         MainScreenAppear      3439116048 2019-08-06 05:53:09     248   \n",
       "183042         MainScreenAppear      1999008718 2019-08-06 06:52:44     246   \n",
       "101890         MainScreenAppear      1426076250 2019-08-03 17:19:35     246   \n",
       "100666  PaymentScreenSuccessful      3365784642 2019-08-03 16:47:55     248   \n",
       "27936          MainScreenAppear      3461697909 2019-08-01 16:02:35     247   \n",
       "102578         CartScreenAppear      4268228514 2019-08-03 17:40:10     246   \n",
       "\n",
       "        day  month       date      time  hour  \n",
       "191715    6      8 2019-08-06  11:30:29    11  \n",
       "88549     3      8 2019-08-03  11:33:51    11  \n",
       "86523     3      8 2019-08-03  10:49:17    10  \n",
       "184437    6      8 2019-08-06  07:39:46     7  \n",
       "181415    6      8 2019-08-06  05:53:09     5  \n",
       "183042    6      8 2019-08-06  06:52:44     6  \n",
       "101890    3      8 2019-08-03  17:19:35    17  \n",
       "100666    3      8 2019-08-03  16:47:55    16  \n",
       "27936     1      8 2019-08-01  16:02:35    16  \n",
       "102578    3      8 2019-08-03  17:40:10    17  "
      ]
     },
     "execution_count": 137,
     "metadata": {},
     "output_type": "execute_result"
    }
   ],
   "source": [
    "# Carregando uma amostra dos dados após o tratamento.\n",
    "df.sample(10)"
   ]
  },
  {
   "cell_type": "code",
   "execution_count": 138,
   "metadata": {},
   "outputs": [
    {
     "name": "stdout",
     "output_type": "stream",
     "text": [
      "<class 'pandas.core.frame.DataFrame'>\n",
      "RangeIndex: 244126 entries, 0 to 244125\n",
      "Data columns (total 9 columns):\n",
      " #   Column           Non-Null Count   Dtype         \n",
      "---  ------           --------------   -----         \n",
      " 0   event_name       244126 non-null  object        \n",
      " 1   device_id_hash   244126 non-null  uint32        \n",
      " 2   event_timestamp  244126 non-null  datetime64[ns]\n",
      " 3   exp_id           244126 non-null  uint8         \n",
      " 4   day              244126 non-null  int32         \n",
      " 5   month            244126 non-null  int32         \n",
      " 6   date             244126 non-null  datetime64[ns]\n",
      " 7   time             244126 non-null  object        \n",
      " 8   hour             244126 non-null  int32         \n",
      "dtypes: datetime64[ns](2), int32(3), object(2), uint32(1), uint8(1)\n",
      "memory usage: 11.4+ MB\n"
     ]
    }
   ],
   "source": [
    "# Carregando as informações dos dados após o tratamento.\n",
    "df.info()"
   ]
  },
  {
   "cell_type": "markdown",
   "metadata": {},
   "source": [
    "## Estudo e verificação dos dados"
   ]
  },
  {
   "cell_type": "code",
   "execution_count": 139,
   "metadata": {},
   "outputs": [
    {
     "name": "stdout",
     "output_type": "stream",
     "text": [
      "Número total de eventos: 244126\n"
     ]
    }
   ],
   "source": [
    "# Verificando quantos eventos ficam nos registros.\n",
    "num_eventos = df.shape[0]\n",
    "print(f\"Número total de eventos: {num_eventos}\")"
   ]
  },
  {
   "cell_type": "code",
   "execution_count": 140,
   "metadata": {},
   "outputs": [
    {
     "name": "stdout",
     "output_type": "stream",
     "text": [
      "Número total de usuários: 7551\n"
     ]
    }
   ],
   "source": [
    "# Verificando quantos usuários ficam nos registros.\n",
    "num_users = df['device_id_hash'].nunique()\n",
    "print(f\"Número total de usuários: {num_users}\")"
   ]
  },
  {
   "cell_type": "code",
   "execution_count": 141,
   "metadata": {},
   "outputs": [
    {
     "name": "stdout",
     "output_type": "stream",
     "text": [
      "Número médio de eventos por usuário: 32.3\n"
     ]
    }
   ],
   "source": [
    "#  Verificando o número médio de eventos por usuário.\n",
    "mean_events = df.groupby('device_id_hash')['event_name'].count().mean()\n",
    "print(f\"Número médio de eventos por usuário: {mean_events:.1f}\")"
   ]
  },
  {
   "cell_type": "code",
   "execution_count": 142,
   "metadata": {},
   "outputs": [
    {
     "name": "stdout",
     "output_type": "stream",
     "text": [
      "Período coberto pelos dados: de 2019-07-25 00:00:00 até 2019-08-07 00:00:00\n"
     ]
    }
   ],
   "source": [
    "# Verificando qual é o período de tempo que os dados cobrem e encontrando as datas máxima e mínima.\n",
    "min_date = df['date'].min()\n",
    "max_date = df['date'].max()\n",
    "\n",
    "print(f\"Período coberto pelos dados: de {min_date} até {max_date}\")"
   ]
  },
  {
   "cell_type": "markdown",
   "metadata": {},
   "source": [
    "``Os dados englobam um período de tempo de 2 semanas! Começando pelo dia 25 do mês 7 (Julho) e finalizando no dia 7 do mês 8 (Agosto). ``"
   ]
  },
  {
   "cell_type": "code",
   "execution_count": 143,
   "metadata": {},
   "outputs": [
    {
     "name": "stderr",
     "output_type": "stream",
     "text": [
      "c:\\Users\\cassi\\anaconda3\\Lib\\site-packages\\seaborn\\_oldcore.py:1119: FutureWarning: use_inf_as_na option is deprecated and will be removed in a future version. Convert inf values to NaN before operating instead.\n",
      "  with pd.option_context('mode.use_inf_as_na', True):\n",
      "c:\\Users\\cassi\\anaconda3\\Lib\\site-packages\\seaborn\\_oldcore.py:1119: FutureWarning: use_inf_as_na option is deprecated and will be removed in a future version. Convert inf values to NaN before operating instead.\n",
      "  with pd.option_context('mode.use_inf_as_na', True):\n"
     ]
    },
    {
     "data": {
      "image/png": "[encoded data removed]",
      "text/plain": [
       "<Figure size 1600x600 with 2 Axes>"
      ]
     },
     "metadata": {},
     "output_type": "display_data"
    }
   ],
   "source": [
    "# Construindo um histograma por data e hora.\n",
    "fig, ax = plt.subplots(1, 2, figsize=(16, 6))\n",
    "\n",
    "# Subplot 1: Histograma por Data\n",
    "sns.histplot(df['date'], bins=len(df['date'].unique()),kde=False, ax=ax[0], color='skyblue', edgecolor='white')\n",
    "ax[0].set_title(\"Distribuição de Eventos por Data\", fontsize=14)\n",
    "ax[0].set_xlabel(\"Data\", fontsize=12)\n",
    "ax[0].set_ylabel(\"Frequência\", fontsize=12)\n",
    "ax[0].tick_params(axis='x', rotation=60)\n",
    "ax[0].grid(True)\n",
    "\n",
    "# Subplot 2: Histograma por Hora\n",
    "sns.histplot(df['hour'], bins=24, kde=False, ax=ax[1],color='salmon', edgecolor='white')\n",
    "ax[1].set_title(\"Distribuição de Eventos por Hora do Dia\", fontsize=14)\n",
    "ax[1].set_xlabel(\"Hora\", fontsize=12)\n",
    "ax[1].set_ylabel(\"Frequência\", fontsize=12)\n",
    "ax[1].set_xticks(range(0, 24))\n",
    "ax[1].tick_params(axis='x', rotation=45)\n",
    "ax[1].grid(True)\n",
    "\n",
    "plt.tight_layout()\n",
    "plt.show()"
   ]
  },
  {
   "cell_type": "code",
   "execution_count": 144,
   "metadata": {},
   "outputs": [],
   "source": [
    "# Encontrado o momento em que os dados começam a ser completos e ignorando a seção anterior.\n",
    "start_date = '2019-08-01'\n",
    "new_df = df[df['date'] >= start_date]"
   ]
  },
  {
   "cell_type": "code",
   "execution_count": 145,
   "metadata": {},
   "outputs": [
    {
     "name": "stdout",
     "output_type": "stream",
     "text": [
      "O novo período de cobrimento dos dados é 2019-08-01 e , 2019-08-07\n"
     ]
    }
   ],
   "source": [
    "# Verificando qual período os dados realmente representam.\n",
    "filtered_min_date = new_df['date'].min().date()\n",
    "filtered_max_date = new_df['date'].max().date()\n",
    "\n",
    "print(f'O novo período de cobrimento dos dados é {filtered_min_date} e , {filtered_max_date}')"
   ]
  },
  {
   "cell_type": "markdown",
   "metadata": {},
   "source": [
    "``Agora os dados englobam o período da primeira semana de agosto!``"
   ]
  },
  {
   "cell_type": "code",
   "execution_count": 146,
   "metadata": {},
   "outputs": [
    {
     "name": "stdout",
     "output_type": "stream",
     "text": [
      "Eventos perdidos: 2828\n",
      "Usuários perdidos: 17\n"
     ]
    }
   ],
   "source": [
    "# Verificando se muitos eventos e usuários foram perdidos ao excluir os dados mais antigos.\n",
    "num_eventos_antes = df.shape[0]\n",
    "num_usuarios_antes = df['device_id_hash'].nunique()\n",
    "\n",
    "# Número de eventos e usuários após a filtragem\n",
    "num_eventos_depois = new_df.shape[0]\n",
    "num_usuarios_depois = new_df['device_id_hash'].nunique()\n",
    "\n",
    "# Eventos e usuários perdidos\n",
    "eventos_perdidos = num_eventos_antes - num_eventos_depois\n",
    "usuarios_perdidos = num_usuarios_antes - num_usuarios_depois\n",
    "\n",
    "print(f\"Eventos perdidos: {eventos_perdidos}\")\n",
    "print(f\"Usuários perdidos: {usuarios_perdidos}\")"
   ]
  },
  {
   "cell_type": "code",
   "execution_count": 147,
   "metadata": {},
   "outputs": [
    {
     "name": "stdout",
     "output_type": "stream",
     "text": [
      "Grupos experimentais presentes nos dados: [246 247 248]\n"
     ]
    }
   ],
   "source": [
    "# Verificando a presença de usuários de todos os três grupos experimentais.\n",
    "present_groups = new_df['exp_id'].unique()\n",
    "print(f\"Grupos experimentais presentes nos dados: {present_groups}\")"
   ]
  },
  {
   "cell_type": "markdown",
   "metadata": {},
   "source": [
    "## Estudo do funil de eventos"
   ]
  },
  {
   "cell_type": "code",
   "execution_count": 148,
   "metadata": {},
   "outputs": [
    {
     "data": {
      "application/vnd.microsoft.datawrangler.viewer.v0+json": {
       "columns": [
        {
         "name": "index",
         "rawType": "int64",
         "type": "integer"
        },
        {
         "name": "event_name",
         "rawType": "object",
         "type": "string"
        },
        {
         "name": "frequency",
         "rawType": "float64",
         "type": "float"
        }
       ],
       "ref": "6bb7ae0a-2f4e-4cce-b3c2-533b02c59705",
       "rows": [
        [
         "0",
         "MainScreenAppear",
         "0.49"
        ],
        [
         "1",
         "OffersScreenAppear",
         "0.19"
        ],
        [
         "2",
         "CartScreenAppear",
         "0.18"
        ],
        [
         "3",
         "PaymentScreenSuccessful",
         "0.14"
        ],
        [
         "4",
         "Tutorial",
         "0.0"
        ]
       ],
       "shape": {
        "columns": 2,
        "rows": 5
       }
      },
      "text/html": [
       "<div>\n",
       "<style scoped>\n",
       "    .dataframe tbody tr th:only-of-type {\n",
       "        vertical-align: middle;\n",
       "    }\n",
       "\n",
       "    .dataframe tbody tr th {\n",
       "        vertical-align: top;\n",
       "    }\n",
       "\n",
       "    .dataframe thead th {\n",
       "        text-align: right;\n",
       "    }\n",
       "</style>\n",
       "<table border=\"1\" class=\"dataframe\">\n",
       "  <thead>\n",
       "    <tr style=\"text-align: right;\">\n",
       "      <th></th>\n",
       "      <th>event_name</th>\n",
       "      <th>frequency</th>\n",
       "    </tr>\n",
       "  </thead>\n",
       "  <tbody>\n",
       "    <tr>\n",
       "      <th>0</th>\n",
       "      <td>MainScreenAppear</td>\n",
       "      <td>0.49</td>\n",
       "    </tr>\n",
       "    <tr>\n",
       "      <th>1</th>\n",
       "      <td>OffersScreenAppear</td>\n",
       "      <td>0.19</td>\n",
       "    </tr>\n",
       "    <tr>\n",
       "      <th>2</th>\n",
       "      <td>CartScreenAppear</td>\n",
       "      <td>0.18</td>\n",
       "    </tr>\n",
       "    <tr>\n",
       "      <th>3</th>\n",
       "      <td>PaymentScreenSuccessful</td>\n",
       "      <td>0.14</td>\n",
       "    </tr>\n",
       "    <tr>\n",
       "      <th>4</th>\n",
       "      <td>Tutorial</td>\n",
       "      <td>0.00</td>\n",
       "    </tr>\n",
       "  </tbody>\n",
       "</table>\n",
       "</div>"
      ],
      "text/plain": [
       "                event_name  frequency\n",
       "0         MainScreenAppear       0.49\n",
       "1       OffersScreenAppear       0.19\n",
       "2         CartScreenAppear       0.18\n",
       "3  PaymentScreenSuccessful       0.14\n",
       "4                 Tutorial       0.00"
      ]
     },
     "execution_count": 148,
     "metadata": {},
     "output_type": "execute_result"
    }
   ],
   "source": [
    "# Confirmando quais eventos estão nos diários e sua frequência de ocorrência e classificando-os por frequência.\n",
    "event_freq = new_df['event_name'].value_counts(sort=True, normalize=True).reset_index()\n",
    "event_freq.columns = ['event_name', 'frequency']\n",
    "event_freq['frequency'] = event_freq['frequency'].round(2)\n",
    "event_freq"
   ]
  },
  {
   "cell_type": "code",
   "execution_count": 149,
   "metadata": {},
   "outputs": [
    {
     "data": {
      "application/vnd.microsoft.datawrangler.viewer.v0+json": {
       "columns": [
        {
         "name": "index",
         "rawType": "int64",
         "type": "integer"
        },
        {
         "name": "event_name",
         "rawType": "object",
         "type": "string"
        },
        {
         "name": "users_actions",
         "rawType": "int64",
         "type": "integer"
        }
       ],
       "ref": "df26817a-0d0a-4968-bb8c-d6d97b93190e",
       "rows": [
        [
         "0",
         "MainScreenAppear",
         "7419"
        ],
        [
         "1",
         "OffersScreenAppear",
         "4593"
        ],
        [
         "2",
         "CartScreenAppear",
         "3734"
        ],
        [
         "3",
         "PaymentScreenSuccessful",
         "3539"
        ],
        [
         "4",
         "Tutorial",
         "840"
        ]
       ],
       "shape": {
        "columns": 2,
        "rows": 5
       }
      },
      "text/html": [
       "<div>\n",
       "<style scoped>\n",
       "    .dataframe tbody tr th:only-of-type {\n",
       "        vertical-align: middle;\n",
       "    }\n",
       "\n",
       "    .dataframe tbody tr th {\n",
       "        vertical-align: top;\n",
       "    }\n",
       "\n",
       "    .dataframe thead th {\n",
       "        text-align: right;\n",
       "    }\n",
       "</style>\n",
       "<table border=\"1\" class=\"dataframe\">\n",
       "  <thead>\n",
       "    <tr style=\"text-align: right;\">\n",
       "      <th></th>\n",
       "      <th>event_name</th>\n",
       "      <th>users_actions</th>\n",
       "    </tr>\n",
       "  </thead>\n",
       "  <tbody>\n",
       "    <tr>\n",
       "      <th>0</th>\n",
       "      <td>MainScreenAppear</td>\n",
       "      <td>7419</td>\n",
       "    </tr>\n",
       "    <tr>\n",
       "      <th>1</th>\n",
       "      <td>OffersScreenAppear</td>\n",
       "      <td>4593</td>\n",
       "    </tr>\n",
       "    <tr>\n",
       "      <th>2</th>\n",
       "      <td>CartScreenAppear</td>\n",
       "      <td>3734</td>\n",
       "    </tr>\n",
       "    <tr>\n",
       "      <th>3</th>\n",
       "      <td>PaymentScreenSuccessful</td>\n",
       "      <td>3539</td>\n",
       "    </tr>\n",
       "    <tr>\n",
       "      <th>4</th>\n",
       "      <td>Tutorial</td>\n",
       "      <td>840</td>\n",
       "    </tr>\n",
       "  </tbody>\n",
       "</table>\n",
       "</div>"
      ],
      "text/plain": [
       "                event_name  users_actions\n",
       "0         MainScreenAppear           7419\n",
       "1       OffersScreenAppear           4593\n",
       "2         CartScreenAppear           3734\n",
       "3  PaymentScreenSuccessful           3539\n",
       "4                 Tutorial            840"
      ]
     },
     "execution_count": 149,
     "metadata": {},
     "output_type": "execute_result"
    }
   ],
   "source": [
    "# Encontrando o número de usuários que executaram cada uma dessas ações e ordenando os eventos pelo número de usuários\n",
    "actions_by_users = new_df.groupby('event_name')['device_id_hash'].nunique().sort_values(ascending=False).reset_index()\n",
    "actions_by_users.columns = ['event_name', 'users_actions']\n",
    "actions_by_users"
   ]
  },
  {
   "cell_type": "code",
   "execution_count": 150,
   "metadata": {},
   "outputs": [
    {
     "data": {
      "application/vnd.microsoft.datawrangler.viewer.v0+json": {
       "columns": [
        {
         "name": "index",
         "rawType": "int64",
         "type": "integer"
        },
        {
         "name": "event_name",
         "rawType": "object",
         "type": "string"
        },
        {
         "name": "users_proportion",
         "rawType": "float64",
         "type": "float"
        }
       ],
       "ref": "97c7a052-0b0b-44d9-a688-bac9f3c54860",
       "rows": [
        [
         "0",
         "MainScreenAppear",
         "0.98"
        ],
        [
         "1",
         "OffersScreenAppear",
         "0.61"
        ],
        [
         "2",
         "CartScreenAppear",
         "0.5"
        ],
        [
         "3",
         "PaymentScreenSuccessful",
         "0.47"
        ],
        [
         "4",
         "Tutorial",
         "0.11"
        ]
       ],
       "shape": {
        "columns": 2,
        "rows": 5
       }
      },
      "text/html": [
       "<div>\n",
       "<style scoped>\n",
       "    .dataframe tbody tr th:only-of-type {\n",
       "        vertical-align: middle;\n",
       "    }\n",
       "\n",
       "    .dataframe tbody tr th {\n",
       "        vertical-align: top;\n",
       "    }\n",
       "\n",
       "    .dataframe thead th {\n",
       "        text-align: right;\n",
       "    }\n",
       "</style>\n",
       "<table border=\"1\" class=\"dataframe\">\n",
       "  <thead>\n",
       "    <tr style=\"text-align: right;\">\n",
       "      <th></th>\n",
       "      <th>event_name</th>\n",
       "      <th>users_proportion</th>\n",
       "    </tr>\n",
       "  </thead>\n",
       "  <tbody>\n",
       "    <tr>\n",
       "      <th>0</th>\n",
       "      <td>MainScreenAppear</td>\n",
       "      <td>0.98</td>\n",
       "    </tr>\n",
       "    <tr>\n",
       "      <th>1</th>\n",
       "      <td>OffersScreenAppear</td>\n",
       "      <td>0.61</td>\n",
       "    </tr>\n",
       "    <tr>\n",
       "      <th>2</th>\n",
       "      <td>CartScreenAppear</td>\n",
       "      <td>0.50</td>\n",
       "    </tr>\n",
       "    <tr>\n",
       "      <th>3</th>\n",
       "      <td>PaymentScreenSuccessful</td>\n",
       "      <td>0.47</td>\n",
       "    </tr>\n",
       "    <tr>\n",
       "      <th>4</th>\n",
       "      <td>Tutorial</td>\n",
       "      <td>0.11</td>\n",
       "    </tr>\n",
       "  </tbody>\n",
       "</table>\n",
       "</div>"
      ],
      "text/plain": [
       "                event_name  users_proportion\n",
       "0         MainScreenAppear              0.98\n",
       "1       OffersScreenAppear              0.61\n",
       "2         CartScreenAppear              0.50\n",
       "3  PaymentScreenSuccessful              0.47\n",
       "4                 Tutorial              0.11"
      ]
     },
     "execution_count": 150,
     "metadata": {},
     "output_type": "execute_result"
    }
   ],
   "source": [
    "# Calculando a proporção de usuários que executaram a ação pelo menos uma vez.\n",
    "nunique_users = new_df['device_id_hash'].nunique()\n",
    "actions_by_users['users_proportion'] = actions_by_users['users_actions'] / nunique_users\n",
    "actions_by_users[['event_name', 'users_proportion']].round(2)"
   ]
  },
  {
   "cell_type": "code",
   "execution_count": 151,
   "metadata": {},
   "outputs": [
    {
     "data": {
      "application/vnd.microsoft.datawrangler.viewer.v0+json": {
       "columns": [
        {
         "name": "index",
         "rawType": "int64",
         "type": "integer"
        },
        {
         "name": "device_id_hash",
         "rawType": "uint32",
         "type": "integer"
        },
        {
         "name": "event_name",
         "rawType": "object",
         "type": "string"
        },
        {
         "name": "event_timestamp",
         "rawType": "datetime64[ns]",
         "type": "datetime"
        }
       ],
       "ref": "619a5aa5-eeca-4e80-b2bf-6d593a2efc74",
       "rows": [
        [
         "0",
         "820561199",
         "Tutorial",
         "2019-08-05 05:47:35"
        ],
        [
         "1",
         "820561199",
         "MainScreenAppear",
         "2019-08-05 05:48:35"
        ],
        [
         "2",
         "820561199",
         "MainScreenAppear",
         "2019-08-05 05:48:58"
        ],
        [
         "3",
         "820561199",
         "OffersScreenAppear",
         "2019-08-05 05:49:06"
        ],
        [
         "4",
         "820561199",
         "MainScreenAppear",
         "2019-08-05 05:50:06"
        ],
        [
         "5",
         "820561199",
         "MainScreenAppear",
         "2019-08-05 05:50:49"
        ],
        [
         "6",
         "820561199",
         "MainScreenAppear",
         "2019-08-05 05:51:05"
        ],
        [
         "7",
         "820561199",
         "MainScreenAppear",
         "2019-08-05 05:51:39"
        ],
        [
         "8",
         "820561199",
         "OffersScreenAppear",
         "2019-08-05 05:53:29"
        ],
        [
         "9",
         "820561199",
         "CartScreenAppear",
         "2019-08-05 05:53:44"
        ],
        [
         "10",
         "820561199",
         "CartScreenAppear",
         "2019-08-05 05:53:55"
        ],
        [
         "11",
         "820561199",
         "OffersScreenAppear",
         "2019-08-05 05:54:10"
        ],
        [
         "12",
         "820561199",
         "OffersScreenAppear",
         "2019-08-05 05:54:31"
        ],
        [
         "13",
         "820561199",
         "MainScreenAppear",
         "2019-08-06 23:52:48"
        ],
        [
         "14",
         "820561199",
         "MainScreenAppear",
         "2019-08-06 23:54:31"
        ],
        [
         "15",
         "820561199",
         "OffersScreenAppear",
         "2019-08-06 23:54:52"
        ]
       ],
       "shape": {
        "columns": 3,
        "rows": 16
       }
      },
      "text/html": [
       "<div>\n",
       "<style scoped>\n",
       "    .dataframe tbody tr th:only-of-type {\n",
       "        vertical-align: middle;\n",
       "    }\n",
       "\n",
       "    .dataframe tbody tr th {\n",
       "        vertical-align: top;\n",
       "    }\n",
       "\n",
       "    .dataframe thead th {\n",
       "        text-align: right;\n",
       "    }\n",
       "</style>\n",
       "<table border=\"1\" class=\"dataframe\">\n",
       "  <thead>\n",
       "    <tr style=\"text-align: right;\">\n",
       "      <th></th>\n",
       "      <th>device_id_hash</th>\n",
       "      <th>event_name</th>\n",
       "      <th>event_timestamp</th>\n",
       "    </tr>\n",
       "  </thead>\n",
       "  <tbody>\n",
       "    <tr>\n",
       "      <th>0</th>\n",
       "      <td>820561199</td>\n",
       "      <td>Tutorial</td>\n",
       "      <td>2019-08-05 05:47:35</td>\n",
       "    </tr>\n",
       "    <tr>\n",
       "      <th>1</th>\n",
       "      <td>820561199</td>\n",
       "      <td>MainScreenAppear</td>\n",
       "      <td>2019-08-05 05:48:35</td>\n",
       "    </tr>\n",
       "    <tr>\n",
       "      <th>2</th>\n",
       "      <td>820561199</td>\n",
       "      <td>MainScreenAppear</td>\n",
       "      <td>2019-08-05 05:48:58</td>\n",
       "    </tr>\n",
       "    <tr>\n",
       "      <th>3</th>\n",
       "      <td>820561199</td>\n",
       "      <td>OffersScreenAppear</td>\n",
       "      <td>2019-08-05 05:49:06</td>\n",
       "    </tr>\n",
       "    <tr>\n",
       "      <th>4</th>\n",
       "      <td>820561199</td>\n",
       "      <td>MainScreenAppear</td>\n",
       "      <td>2019-08-05 05:50:06</td>\n",
       "    </tr>\n",
       "    <tr>\n",
       "      <th>5</th>\n",
       "      <td>820561199</td>\n",
       "      <td>MainScreenAppear</td>\n",
       "      <td>2019-08-05 05:50:49</td>\n",
       "    </tr>\n",
       "    <tr>\n",
       "      <th>6</th>\n",
       "      <td>820561199</td>\n",
       "      <td>MainScreenAppear</td>\n",
       "      <td>2019-08-05 05:51:05</td>\n",
       "    </tr>\n",
       "    <tr>\n",
       "      <th>7</th>\n",
       "      <td>820561199</td>\n",
       "      <td>MainScreenAppear</td>\n",
       "      <td>2019-08-05 05:51:39</td>\n",
       "    </tr>\n",
       "    <tr>\n",
       "      <th>8</th>\n",
       "      <td>820561199</td>\n",
       "      <td>OffersScreenAppear</td>\n",
       "      <td>2019-08-05 05:53:29</td>\n",
       "    </tr>\n",
       "    <tr>\n",
       "      <th>9</th>\n",
       "      <td>820561199</td>\n",
       "      <td>CartScreenAppear</td>\n",
       "      <td>2019-08-05 05:53:44</td>\n",
       "    </tr>\n",
       "    <tr>\n",
       "      <th>10</th>\n",
       "      <td>820561199</td>\n",
       "      <td>CartScreenAppear</td>\n",
       "      <td>2019-08-05 05:53:55</td>\n",
       "    </tr>\n",
       "    <tr>\n",
       "      <th>11</th>\n",
       "      <td>820561199</td>\n",
       "      <td>OffersScreenAppear</td>\n",
       "      <td>2019-08-05 05:54:10</td>\n",
       "    </tr>\n",
       "    <tr>\n",
       "      <th>12</th>\n",
       "      <td>820561199</td>\n",
       "      <td>OffersScreenAppear</td>\n",
       "      <td>2019-08-05 05:54:31</td>\n",
       "    </tr>\n",
       "    <tr>\n",
       "      <th>13</th>\n",
       "      <td>820561199</td>\n",
       "      <td>MainScreenAppear</td>\n",
       "      <td>2019-08-06 23:52:48</td>\n",
       "    </tr>\n",
       "    <tr>\n",
       "      <th>14</th>\n",
       "      <td>820561199</td>\n",
       "      <td>MainScreenAppear</td>\n",
       "      <td>2019-08-06 23:54:31</td>\n",
       "    </tr>\n",
       "    <tr>\n",
       "      <th>15</th>\n",
       "      <td>820561199</td>\n",
       "      <td>OffersScreenAppear</td>\n",
       "      <td>2019-08-06 23:54:52</td>\n",
       "    </tr>\n",
       "  </tbody>\n",
       "</table>\n",
       "</div>"
      ],
      "text/plain": [
       "    device_id_hash          event_name     event_timestamp\n",
       "0        820561199            Tutorial 2019-08-05 05:47:35\n",
       "1        820561199    MainScreenAppear 2019-08-05 05:48:35\n",
       "2        820561199    MainScreenAppear 2019-08-05 05:48:58\n",
       "3        820561199  OffersScreenAppear 2019-08-05 05:49:06\n",
       "4        820561199    MainScreenAppear 2019-08-05 05:50:06\n",
       "5        820561199    MainScreenAppear 2019-08-05 05:50:49\n",
       "6        820561199    MainScreenAppear 2019-08-05 05:51:05\n",
       "7        820561199    MainScreenAppear 2019-08-05 05:51:39\n",
       "8        820561199  OffersScreenAppear 2019-08-05 05:53:29\n",
       "9        820561199    CartScreenAppear 2019-08-05 05:53:44\n",
       "10       820561199    CartScreenAppear 2019-08-05 05:53:55\n",
       "11       820561199  OffersScreenAppear 2019-08-05 05:54:10\n",
       "12       820561199  OffersScreenAppear 2019-08-05 05:54:31\n",
       "13       820561199    MainScreenAppear 2019-08-06 23:52:48\n",
       "14       820561199    MainScreenAppear 2019-08-06 23:54:31\n",
       "15       820561199  OffersScreenAppear 2019-08-06 23:54:52"
      ]
     },
     "execution_count": 151,
     "metadata": {},
     "output_type": "execute_result"
    }
   ],
   "source": [
    "# Verificando em que ordem as ações ocorreram para cada usuário. \n",
    "df_sorted = new_df.sort_values(by=['device_id_hash', 'event_timestamp'])\n",
    "\n",
    "sample = df_sorted[df_sorted['device_id_hash'] == 820561199]  # Utilizar ID aleatório de usuario para verificar diferentes amostras.\n",
    "sample[['device_id_hash', 'event_name', 'event_timestamp']].head(20).reset_index(drop=True)"
   ]
  },
  {
   "cell_type": "code",
   "execution_count": 152,
   "metadata": {},
   "outputs": [
    {
     "data": {
      "application/vnd.microsoft.datawrangler.viewer.v0+json": {
       "columns": [
        {
         "name": "index",
         "rawType": "int64",
         "type": "integer"
        },
        {
         "name": "device_id_hash",
         "rawType": "uint32",
         "type": "integer"
        },
        {
         "name": "event_count",
         "rawType": "int64",
         "type": "integer"
        },
        {
         "name": "unique_events",
         "rawType": "object",
         "type": "unknown"
        }
       ],
       "ref": "8bd396de-a590-415e-bffa-5150bc448845",
       "rows": [
        [
         "0",
         "443256",
         "30",
         "['MainScreenAppear' 'OffersScreenAppear']"
        ],
        [
         "1",
         "448419",
         "6",
         "['MainScreenAppear' 'OffersScreenAppear']"
        ],
        [
         "2",
         "520056",
         "26",
         "['MainScreenAppear']"
        ],
        [
         "3",
         "1199970",
         "6",
         "['MainScreenAppear' 'OffersScreenAppear']"
        ],
        [
         "4",
         "1241014",
         "40",
         "['Tutorial' 'MainScreenAppear' 'CartScreenAppear'\n 'PaymentScreenSuccessful']"
        ],
        [
         "5",
         "1471703",
         "8",
         "['MainScreenAppear']"
        ],
        [
         "6",
         "1542393",
         "11",
         "['MainScreenAppear']"
        ],
        [
         "7",
         "2352070",
         "33",
         "['CartScreenAppear' 'PaymentScreenSuccessful' 'OffersScreenAppear']"
        ],
        [
         "8",
         "2574555",
         "18",
         "['MainScreenAppear']"
        ],
        [
         "9",
         "3173707",
         "26",
         "['MainScreenAppear']"
        ],
        [
         "10",
         "3440797",
         "57",
         "['MainScreenAppear' 'OffersScreenAppear' 'CartScreenAppear'\n 'PaymentScreenSuccessful']"
        ],
        [
         "11",
         "4130817",
         "8",
         "['MainScreenAppear' 'OffersScreenAppear']"
        ],
        [
         "12",
         "5008151",
         "32",
         "['MainScreenAppear' 'OffersScreenAppear' 'PaymentScreenSuccessful'\n 'CartScreenAppear']"
        ],
        [
         "13",
         "5417223",
         "33",
         "['MainScreenAppear' 'CartScreenAppear' 'PaymentScreenSuccessful'\n 'OffersScreenAppear']"
        ],
        [
         "14",
         "7660012",
         "29",
         "['Tutorial' 'MainScreenAppear' 'OffersScreenAppear' 'CartScreenAppear'\n 'PaymentScreenSuccessful']"
        ]
       ],
       "shape": {
        "columns": 3,
        "rows": 15
       }
      },
      "text/html": [
       "<div>\n",
       "<style scoped>\n",
       "    .dataframe tbody tr th:only-of-type {\n",
       "        vertical-align: middle;\n",
       "    }\n",
       "\n",
       "    .dataframe tbody tr th {\n",
       "        vertical-align: top;\n",
       "    }\n",
       "\n",
       "    .dataframe thead th {\n",
       "        text-align: right;\n",
       "    }\n",
       "</style>\n",
       "<table border=\"1\" class=\"dataframe\">\n",
       "  <thead>\n",
       "    <tr style=\"text-align: right;\">\n",
       "      <th></th>\n",
       "      <th>device_id_hash</th>\n",
       "      <th>event_count</th>\n",
       "      <th>unique_events</th>\n",
       "    </tr>\n",
       "  </thead>\n",
       "  <tbody>\n",
       "    <tr>\n",
       "      <th>0</th>\n",
       "      <td>443256</td>\n",
       "      <td>30</td>\n",
       "      <td>[MainScreenAppear, OffersScreenAppear]</td>\n",
       "    </tr>\n",
       "    <tr>\n",
       "      <th>1</th>\n",
       "      <td>448419</td>\n",
       "      <td>6</td>\n",
       "      <td>[MainScreenAppear, OffersScreenAppear]</td>\n",
       "    </tr>\n",
       "    <tr>\n",
       "      <th>2</th>\n",
       "      <td>520056</td>\n",
       "      <td>26</td>\n",
       "      <td>[MainScreenAppear]</td>\n",
       "    </tr>\n",
       "    <tr>\n",
       "      <th>3</th>\n",
       "      <td>1199970</td>\n",
       "      <td>6</td>\n",
       "      <td>[MainScreenAppear, OffersScreenAppear]</td>\n",
       "    </tr>\n",
       "    <tr>\n",
       "      <th>4</th>\n",
       "      <td>1241014</td>\n",
       "      <td>40</td>\n",
       "      <td>[Tutorial, MainScreenAppear, CartScreenAppear,...</td>\n",
       "    </tr>\n",
       "    <tr>\n",
       "      <th>5</th>\n",
       "      <td>1471703</td>\n",
       "      <td>8</td>\n",
       "      <td>[MainScreenAppear]</td>\n",
       "    </tr>\n",
       "    <tr>\n",
       "      <th>6</th>\n",
       "      <td>1542393</td>\n",
       "      <td>11</td>\n",
       "      <td>[MainScreenAppear]</td>\n",
       "    </tr>\n",
       "    <tr>\n",
       "      <th>7</th>\n",
       "      <td>2352070</td>\n",
       "      <td>33</td>\n",
       "      <td>[CartScreenAppear, PaymentScreenSuccessful, Of...</td>\n",
       "    </tr>\n",
       "    <tr>\n",
       "      <th>8</th>\n",
       "      <td>2574555</td>\n",
       "      <td>18</td>\n",
       "      <td>[MainScreenAppear]</td>\n",
       "    </tr>\n",
       "    <tr>\n",
       "      <th>9</th>\n",
       "      <td>3173707</td>\n",
       "      <td>26</td>\n",
       "      <td>[MainScreenAppear]</td>\n",
       "    </tr>\n",
       "    <tr>\n",
       "      <th>10</th>\n",
       "      <td>3440797</td>\n",
       "      <td>57</td>\n",
       "      <td>[MainScreenAppear, OffersScreenAppear, CartScr...</td>\n",
       "    </tr>\n",
       "    <tr>\n",
       "      <th>11</th>\n",
       "      <td>4130817</td>\n",
       "      <td>8</td>\n",
       "      <td>[MainScreenAppear, OffersScreenAppear]</td>\n",
       "    </tr>\n",
       "    <tr>\n",
       "      <th>12</th>\n",
       "      <td>5008151</td>\n",
       "      <td>32</td>\n",
       "      <td>[MainScreenAppear, OffersScreenAppear, Payment...</td>\n",
       "    </tr>\n",
       "    <tr>\n",
       "      <th>13</th>\n",
       "      <td>5417223</td>\n",
       "      <td>33</td>\n",
       "      <td>[MainScreenAppear, CartScreenAppear, PaymentSc...</td>\n",
       "    </tr>\n",
       "    <tr>\n",
       "      <th>14</th>\n",
       "      <td>7660012</td>\n",
       "      <td>29</td>\n",
       "      <td>[Tutorial, MainScreenAppear, OffersScreenAppea...</td>\n",
       "    </tr>\n",
       "  </tbody>\n",
       "</table>\n",
       "</div>"
      ],
      "text/plain": [
       "    device_id_hash  event_count  \\\n",
       "0           443256           30   \n",
       "1           448419            6   \n",
       "2           520056           26   \n",
       "3          1199970            6   \n",
       "4          1241014           40   \n",
       "5          1471703            8   \n",
       "6          1542393           11   \n",
       "7          2352070           33   \n",
       "8          2574555           18   \n",
       "9          3173707           26   \n",
       "10         3440797           57   \n",
       "11         4130817            8   \n",
       "12         5008151           32   \n",
       "13         5417223           33   \n",
       "14         7660012           29   \n",
       "\n",
       "                                        unique_events  \n",
       "0              [MainScreenAppear, OffersScreenAppear]  \n",
       "1              [MainScreenAppear, OffersScreenAppear]  \n",
       "2                                  [MainScreenAppear]  \n",
       "3              [MainScreenAppear, OffersScreenAppear]  \n",
       "4   [Tutorial, MainScreenAppear, CartScreenAppear,...  \n",
       "5                                  [MainScreenAppear]  \n",
       "6                                  [MainScreenAppear]  \n",
       "7   [CartScreenAppear, PaymentScreenSuccessful, Of...  \n",
       "8                                  [MainScreenAppear]  \n",
       "9                                  [MainScreenAppear]  \n",
       "10  [MainScreenAppear, OffersScreenAppear, CartScr...  \n",
       "11             [MainScreenAppear, OffersScreenAppear]  \n",
       "12  [MainScreenAppear, OffersScreenAppear, Payment...  \n",
       "13  [MainScreenAppear, CartScreenAppear, PaymentSc...  \n",
       "14  [Tutorial, MainScreenAppear, OffersScreenAppea...  "
      ]
     },
     "execution_count": 152,
     "metadata": {},
     "output_type": "execute_result"
    }
   ],
   "source": [
    "# Verificando o número de ações e de eventos únicos para cada usuário.\n",
    "total_actions = df_sorted.groupby('device_id_hash').agg(event_count=('event_name', 'count'), unique_events=('event_name', 'unique')).reset_index()\n",
    "total_actions.head(15)"
   ]
  },
  {
   "cell_type": "markdown",
   "metadata": {},
   "source": [
    "````"
   ]
  },
  {
   "cell_type": "code",
   "execution_count": 153,
   "metadata": {},
   "outputs": [
    {
     "data": {
      "application/vnd.microsoft.datawrangler.viewer.v0+json": {
       "columns": [
        {
         "name": "index",
         "rawType": "int64",
         "type": "integer"
        },
        {
         "name": "etapa",
         "rawType": "object",
         "type": "string"
        },
        {
         "name": "num_users",
         "rawType": "int64",
         "type": "integer"
        },
        {
         "name": "proporcao",
         "rawType": "float64",
         "type": "float"
        }
       ],
       "ref": "50cf2a84-85c7-4a82-a75d-a8854dba0bc1",
       "rows": [
        [
         "0",
         "Tutorial",
         "840",
         "1.0"
        ],
        [
         "1",
         "MainScreenAppear",
         "836",
         "0.9952380952380953"
        ],
        [
         "2",
         "OffersScreenAppear",
         "644",
         "0.7703349282296651"
        ],
        [
         "3",
         "CartScreenAppear",
         "531",
         "0.8245341614906833"
        ],
        [
         "4",
         "PaymentScreenSuccessful",
         "466",
         "0.8775894538606404"
        ]
       ],
       "shape": {
        "columns": 3,
        "rows": 5
       }
      },
      "text/html": [
       "<div>\n",
       "<style scoped>\n",
       "    .dataframe tbody tr th:only-of-type {\n",
       "        vertical-align: middle;\n",
       "    }\n",
       "\n",
       "    .dataframe tbody tr th {\n",
       "        vertical-align: top;\n",
       "    }\n",
       "\n",
       "    .dataframe thead th {\n",
       "        text-align: right;\n",
       "    }\n",
       "</style>\n",
       "<table border=\"1\" class=\"dataframe\">\n",
       "  <thead>\n",
       "    <tr style=\"text-align: right;\">\n",
       "      <th></th>\n",
       "      <th>etapa</th>\n",
       "      <th>num_users</th>\n",
       "      <th>proporcao</th>\n",
       "    </tr>\n",
       "  </thead>\n",
       "  <tbody>\n",
       "    <tr>\n",
       "      <th>0</th>\n",
       "      <td>Tutorial</td>\n",
       "      <td>840</td>\n",
       "      <td>1.000000</td>\n",
       "    </tr>\n",
       "    <tr>\n",
       "      <th>1</th>\n",
       "      <td>MainScreenAppear</td>\n",
       "      <td>836</td>\n",
       "      <td>0.995238</td>\n",
       "    </tr>\n",
       "    <tr>\n",
       "      <th>2</th>\n",
       "      <td>OffersScreenAppear</td>\n",
       "      <td>644</td>\n",
       "      <td>0.770335</td>\n",
       "    </tr>\n",
       "    <tr>\n",
       "      <th>3</th>\n",
       "      <td>CartScreenAppear</td>\n",
       "      <td>531</td>\n",
       "      <td>0.824534</td>\n",
       "    </tr>\n",
       "    <tr>\n",
       "      <th>4</th>\n",
       "      <td>PaymentScreenSuccessful</td>\n",
       "      <td>466</td>\n",
       "      <td>0.877589</td>\n",
       "    </tr>\n",
       "  </tbody>\n",
       "</table>\n",
       "</div>"
      ],
      "text/plain": [
       "                     etapa  num_users  proporcao\n",
       "0                 Tutorial        840   1.000000\n",
       "1         MainScreenAppear        836   0.995238\n",
       "2       OffersScreenAppear        644   0.770335\n",
       "3         CartScreenAppear        531   0.824534\n",
       "4  PaymentScreenSuccessful        466   0.877589"
      ]
     },
     "execution_count": 153,
     "metadata": {},
     "output_type": "execute_result"
    }
   ],
   "source": [
    "# Usando o funil de eventos para encontrar a parcela de usuários que passam de uma etapa para a próxima.\n",
    "etapas_funil = ['Tutorial', 'MainScreenAppear', 'OffersScreenAppear','CartScreenAppear', 'PaymentScreenSuccessful']\n",
    "\n",
    "funil = {}\n",
    "\n",
    "df_teste = new_df.sort_values(by=['device_id_hash', 'event_timestamp'])\n",
    "\n",
    "usuarios_anteriores = set(new_df['device_id_hash'].unique())\n",
    "\n",
    "for etapa in etapas_funil:\n",
    "    usuarios_atual = set(df_teste[df_teste['event_name'] == etapa]['device_id_hash'].unique())\n",
    "\n",
    "    usuarios_passaram = usuarios_atual.intersection(usuarios_anteriores)\n",
    "\n",
    "    funil[etapa] = len(usuarios_passaram)\n",
    "\n",
    "    usuarios_anteriores = usuarios_passaram\n",
    "\n",
    "funil_df = pd.DataFrame(list(funil.items()), columns=['etapa', 'num_users'])\n",
    "\n",
    "funil_df['proporcao'] = funil_df['num_users'] / funil_df['num_users'].shift(1)\n",
    "\n",
    "funil_df.loc[0, 'proporcao'] = 1\n",
    "\n",
    "funil_df"
   ]
  },
  {
   "cell_type": "code",
   "execution_count": 154,
   "metadata": {},
   "outputs": [
    {
     "name": "stdout",
     "output_type": "stream",
     "text": [
      "A etapa onde mais usuários foram perdidos é: OffersScreenAppear\n"
     ]
    }
   ],
   "source": [
    "# Calculando em qual fase se perde mais usuários.\n",
    "etapa_maior_perda = funil_df[funil_df['proporcao'] == funil_df['proporcao'].min()]['etapa'].values[0]\n",
    "\n",
    "print(f\"A etapa onde mais usuários foram perdidos é: {etapa_maior_perda}\")"
   ]
  },
  {
   "cell_type": "code",
   "execution_count": 155,
   "metadata": {},
   "outputs": [
    {
     "name": "stdout",
     "output_type": "stream",
     "text": [
      "A parcela de usuários que completaram o funil inteiro é: 55.48%\n"
     ]
    }
   ],
   "source": [
    "# Calculando qual é a parcela de usuários que faz o caminho inteiro, desde o primeiro evento até o pagamento.\n",
    "\n",
    "usuarios_inicio = funil_df[funil_df['etapa'] == 'Tutorial']['num_users'].values[0]\n",
    "usuarios_fim = funil_df[funil_df['etapa'] == 'PaymentScreenSuccessful']['num_users'].values[0]\n",
    "\n",
    "parcela_completa = usuarios_fim / usuarios_inicio\n",
    "\n",
    "print(f\"A parcela de usuários que completaram o funil inteiro é: {parcela_completa:.2%}\")"
   ]
  },
  {
   "cell_type": "markdown",
   "metadata": {},
   "source": [
    " ## Estudo dos resultados do experimento"
   ]
  },
  {
   "cell_type": "code",
   "execution_count": 156,
   "metadata": {},
   "outputs": [
    {
     "data": {
      "application/vnd.microsoft.datawrangler.viewer.v0+json": {
       "columns": [
        {
         "name": "index",
         "rawType": "int64",
         "type": "integer"
        },
        {
         "name": "exp_group",
         "rawType": "uint8",
         "type": "integer"
        },
        {
         "name": "users_num",
         "rawType": "int64",
         "type": "integer"
        }
       ],
       "ref": "03669bb9-f915-41e6-a861-c4a2e7252615",
       "rows": [
        [
         "0",
         "246",
         "2484"
        ],
        [
         "1",
         "247",
         "2513"
        ],
        [
         "2",
         "248",
         "2537"
        ]
       ],
       "shape": {
        "columns": 2,
        "rows": 3
       }
      },
      "text/html": [
       "<div>\n",
       "<style scoped>\n",
       "    .dataframe tbody tr th:only-of-type {\n",
       "        vertical-align: middle;\n",
       "    }\n",
       "\n",
       "    .dataframe tbody tr th {\n",
       "        vertical-align: top;\n",
       "    }\n",
       "\n",
       "    .dataframe thead th {\n",
       "        text-align: right;\n",
       "    }\n",
       "</style>\n",
       "<table border=\"1\" class=\"dataframe\">\n",
       "  <thead>\n",
       "    <tr style=\"text-align: right;\">\n",
       "      <th></th>\n",
       "      <th>exp_group</th>\n",
       "      <th>users_num</th>\n",
       "    </tr>\n",
       "  </thead>\n",
       "  <tbody>\n",
       "    <tr>\n",
       "      <th>0</th>\n",
       "      <td>246</td>\n",
       "      <td>2484</td>\n",
       "    </tr>\n",
       "    <tr>\n",
       "      <th>1</th>\n",
       "      <td>247</td>\n",
       "      <td>2513</td>\n",
       "    </tr>\n",
       "    <tr>\n",
       "      <th>2</th>\n",
       "      <td>248</td>\n",
       "      <td>2537</td>\n",
       "    </tr>\n",
       "  </tbody>\n",
       "</table>\n",
       "</div>"
      ],
      "text/plain": [
       "   exp_group  users_num\n",
       "0        246       2484\n",
       "1        247       2513\n",
       "2        248       2537"
      ]
     },
     "execution_count": 156,
     "metadata": {},
     "output_type": "execute_result"
    }
   ],
   "source": [
    "# Calculando quantos usuários há em cada grupo.\n",
    "users_per_group = new_df.groupby('exp_id')['device_id_hash'].nunique().reset_index()\n",
    "users_per_group.columns = ['exp_group','users_num'] \n",
    "users_per_group"
   ]
  },
  {
   "cell_type": "code",
   "execution_count": 157,
   "metadata": {},
   "outputs": [
    {
     "name": "stdout",
     "output_type": "stream",
     "text": [
      "Estatística t: 0.7407740332387146\n",
      "Valor p: 0.4588652825514783\n",
      "Não há uma diferença estatisticamente significativa entre os grupos 246 e 247.\n"
     ]
    }
   ],
   "source": [
    "# Temos dois grupos de controle no teste A/A, no qual verificamos nossos mecanismos e cálculos. Veja se há uma diferença estatisticamente significativa entre as amostragens 246 e 247.\n",
    "# Hipótese nula: As médias dos grupos 246 e 247 são iguais.\n",
    "# Hipótese alternativa: As médias dos grupos 246 e 247 são diferentes.\n",
    "\n",
    "group_246 = new_df[new_df['exp_id'] == 246]\n",
    "group_247 = new_df[new_df['exp_id'] == 247]\n",
    "\n",
    "events_per_users_246 = group_246.groupby('device_id_hash')['event_name'].count()\n",
    "events_per_users_247 = group_247.groupby('device_id_hash')['event_name'].count()\n",
    "\n",
    "t_stat, p_value = st.ttest_ind(events_per_users_246, events_per_users_247)\n",
    "\n",
    "print(f\"Estatística t: {t_stat}\")\n",
    "print(f\"Valor p: {p_value}\")\n",
    "\n",
    "if p_value < 0.05:\n",
    "    print(\"Há uma diferença estatisticamente significativa entre os grupos 246 e 247.\")\n",
    "else:\n",
    "    print(\"Não há uma diferença estatisticamente significativa entre os grupos 246 e 247.\")"
   ]
  },
  {
   "cell_type": "code",
   "execution_count": 158,
   "metadata": {},
   "outputs": [
    {
     "name": "stdout",
     "output_type": "stream",
     "text": [
      "Evento: MainScreenAppear\n",
      "Usuários que realizaram o evento no grupo 246: 2456\n",
      "Usuários que realizaram o evento no grupo 247: 2482\n",
      "Proporção de usuários no grupo_246 que realizaram o evento: 0.9867\n",
      "Proporção de usuários no grupo_247 que realizaram o evento: 0.9849\n",
      "Estatística z: 0.5451, Valor p: 0.5857\n",
      "Não há diferença estatisticamente significativa.\n",
      "--------------------------------------------------\n",
      "Evento: PaymentScreenSuccessful\n",
      "Usuários que realizaram o evento no grupo 246: 1202\n",
      "Usuários que realizaram o evento no grupo 247: 1160\n",
      "Proporção de usuários no grupo_246 que realizaram o evento: 0.4829\n",
      "Proporção de usuários no grupo_247 que realizaram o evento: 0.4603\n",
      "Estatística z: 1.6026, Valor p: 0.1090\n",
      "Não há diferença estatisticamente significativa.\n",
      "--------------------------------------------------\n",
      "Evento: CartScreenAppear\n",
      "Usuários que realizaram o evento no grupo 246: 1270\n",
      "Usuários que realizaram o evento no grupo 247: 1240\n",
      "Proporção de usuários no grupo_246 que realizaram o evento: 0.5102\n",
      "Proporção de usuários no grupo_247 que realizaram o evento: 0.4921\n",
      "Estatística z: 1.2868, Valor p: 0.1982\n",
      "Não há diferença estatisticamente significativa.\n",
      "--------------------------------------------------\n",
      "Evento: OffersScreenAppear\n",
      "Usuários que realizaram o evento no grupo 246: 1545\n",
      "Usuários que realizaram o evento no grupo 247: 1530\n",
      "Proporção de usuários no grupo_246 que realizaram o evento: 0.6207\n",
      "Proporção de usuários no grupo_247 que realizaram o evento: 0.6071\n",
      "Estatística z: 0.9877, Valor p: 0.3233\n",
      "Não há diferença estatisticamente significativa.\n",
      "--------------------------------------------------\n",
      "Evento: Tutorial\n",
      "Usuários que realizaram o evento no grupo 246: 279\n",
      "Usuários que realizaram o evento no grupo 247: 286\n",
      "Proporção de usuários no grupo_246 que realizaram o evento: 0.1121\n",
      "Proporção de usuários no grupo_247 que realizaram o evento: 0.1135\n",
      "Estatística z: -0.1565, Valor p: 0.8757\n",
      "Não há diferença estatisticamente significativa.\n",
      "--------------------------------------------------\n"
     ]
    }
   ],
   "source": [
    "# Selecione o evento mais popular. Em cada um dos grupos de controle, encontre o número de usuários que realizaram essa ação. Encontre a proporção deles. Verifique se a diferença entre os grupos é estatisticamente significativa. Repita o procedimento para todos os outros eventos (economizará tempo se você criar uma função especial para este teste). Você pode confirmar se os grupos foram divididos corretamente?\n",
    "\n",
    "# Função para testar a diferença estatística entre dois grupos para um evento específico\n",
    "def testar_evento(event_name, grupo_1, grupo_2):\n",
    "    # Contar o número de usuários que realizaram o evento em cada grupo\n",
    "    users_grupo_1 = grupo_1[grupo_1['event_name'] == event_name]['device_id_hash'].nunique()\n",
    "    users_grupo_2 = grupo_2[grupo_2['event_name'] == event_name]['device_id_hash'].nunique()\n",
    "\n",
    "    # Total de usuários em cada grupo\n",
    "    total_users_grupo_1 = grupo_1['device_id_hash'].nunique()\n",
    "    total_users_grupo_2 = grupo_2['device_id_hash'].nunique()\n",
    "\n",
    "    # Proporção de usuários que realizaram o evento em cada grupo\n",
    "    proporcoes = {\n",
    "        'grupo_246': users_grupo_1 / total_users_grupo_1,\n",
    "        'grupo_247': users_grupo_2 / total_users_grupo_2\n",
    "    }\n",
    "\n",
    "    # Realizar o teste de proporções (z-test)\n",
    "    count = np.array([users_grupo_1, users_grupo_2])\n",
    "    nobs = np.array([total_users_grupo_1, total_users_grupo_2])\n",
    "\n",
    "    z_stat, p_value = pz(count, nobs)\n",
    "\n",
    "    # Exibir os resultados\n",
    "    print(f\"Evento: {event_name}\")\n",
    "    print(f\"Usuários que realizaram o evento no grupo 246: {users_grupo_1}\")\n",
    "    print(f\"Usuários que realizaram o evento no grupo 247: {users_grupo_2}\")\n",
    "\n",
    "    for grupo, proporcao in proporcoes.items():\n",
    "        print(f\"Proporção de usuários no {grupo} que realizaram o evento: {proporcao:.4f}\")\n",
    "\n",
    "    print(f\"Estatística z: {z_stat:.4f}, Valor p: {p_value:.4f}\")\n",
    "    print(\"Diferença estatisticamente significativa.\" if p_value < 0.05 else \"Não há diferença estatisticamente significativa.\")\n",
    "    print(\"-\" * 50)\n",
    "\n",
    "\n",
    "# Filtrar os grupos de controle 246 e 247\n",
    "grupo_246, grupo_247 = (df[df['exp_id'] == exp_id] for exp_id in [246, 247])\n",
    "\n",
    "# Selecionar o evento mais popular\n",
    "evento_mais_popular = df['event_name'].mode()[0]\n",
    "\n",
    "# Aplicar a função ao evento mais popular e a todos os outros eventos\n",
    "for evento in df['event_name'].unique():\n",
    "    testar_evento(evento, grupo_246, grupo_247)"
   ]
  },
  {
   "cell_type": "code",
   "execution_count": 159,
   "metadata": {},
   "outputs": [
    {
     "name": "stdout",
     "output_type": "stream",
     "text": [
      "Nível de significância ajustado: 0.0033333333333333335\n",
      "Evento: Tutorial\n",
      "Proporção de usuários no grupo 1 que realizaram o evento: 0.1119\n",
      "Proporção de usuários no grupo 2 que realizaram o evento: 0.1126\n",
      "Estatística z: -0.0781614596617372\n",
      "Valor p: 0.9376996189257114\n",
      "Não há uma diferença estatisticamente significativa entre os grupos.\n",
      "--------------------------------------------------\n",
      "Evento: MainScreenAppear\n",
      "Proporção de usuários no grupo 1 que realizaram o evento: 0.9863\n",
      "Proporção de usuários no grupo 2 que realizaram o evento: 0.9853\n",
      "Estatística z: 0.3093441851418436\n",
      "Valor p: 0.7570597232046099\n",
      "Não há uma diferença estatisticamente significativa entre os grupos.\n",
      "--------------------------------------------------\n",
      "Evento: OffersScreenAppear\n",
      "Proporção de usuários no grupo 1 que realizaram o evento: 0.6208\n",
      "Proporção de usuários no grupo 2 que realizaram o evento: 0.6049\n",
      "Estatística z: 1.154987713610383\n",
      "Valor p: 0.2480954578522181\n",
      "Não há uma diferença estatisticamente significativa entre os grupos.\n",
      "--------------------------------------------------\n",
      "Evento: CartScreenAppear\n",
      "Proporção de usuários no grupo 1 que realizaram o evento: 0.5097\n",
      "Proporção de usuários no grupo 2 que realizaram o evento: 0.4926\n",
      "Estatística z: 1.203368576486285\n",
      "Valor p: 0.22883372237997213\n",
      "Não há uma diferença estatisticamente significativa entre os grupos.\n",
      "--------------------------------------------------\n",
      "Evento: PaymentScreenSuccessful\n",
      "Proporção de usuários no grupo 1 que realizaram o evento: 0.4831\n",
      "Proporção de usuários no grupo 2 que realizaram o evento: 0.4608\n",
      "Estatística z: 1.5779948491596598\n",
      "Valor p: 0.11456679313141847\n",
      "Não há uma diferença estatisticamente significativa entre os grupos.\n",
      "--------------------------------------------------\n",
      "Comparação do grupo 248 com o grupo 246 para o evento Tutorial:\n",
      "Evento: Tutorial\n",
      "Proporção de usuários no grupo 1 que realizaram o evento: 0.1100\n",
      "Proporção de usuários no grupo 2 que realizaram o evento: 0.1119\n",
      "Estatística z: -0.21928326020412683\n",
      "Valor p: 0.8264294010087645\n",
      "Não há uma diferença estatisticamente significativa entre os grupos.\n",
      "--------------------------------------------------\n",
      "Comparação do grupo 248 com o grupo 247 para o evento Tutorial:\n",
      "Evento: Tutorial\n",
      "Proporção de usuários no grupo 1 que realizaram o evento: 0.1100\n",
      "Proporção de usuários no grupo 2 que realizaram o evento: 0.1126\n",
      "Estatística z: -0.2984969253006019\n",
      "Valor p: 0.7653239224745011\n",
      "Não há uma diferença estatisticamente significativa entre os grupos.\n",
      "--------------------------------------------------\n",
      "Comparação do grupo 248 com o grupo 246 para o evento MainScreenAppear:\n",
      "Evento: MainScreenAppear\n",
      "Proporção de usuários no grupo 1 que realizaram o evento: 0.9827\n",
      "Proporção de usuários no grupo 2 que realizaram o evento: 0.9863\n",
      "Estatística z: -1.0472762353383693\n",
      "Valor p: 0.2949721933554553\n",
      "Não há uma diferença estatisticamente significativa entre os grupos.\n",
      "--------------------------------------------------\n",
      "Comparação do grupo 248 com o grupo 247 para o evento MainScreenAppear:\n",
      "Evento: MainScreenAppear\n",
      "Proporção de usuários no grupo 1 que realizaram o evento: 0.9827\n",
      "Proporção de usuários no grupo 2 que realizaram o evento: 0.9853\n",
      "Estatística z: -0.740980338642352\n",
      "Valor p: 0.45870536166215137\n",
      "Não há uma diferença estatisticamente significativa entre os grupos.\n",
      "--------------------------------------------------\n",
      "Comparação do grupo 248 com o grupo 246 para o evento OffersScreenAppear:\n",
      "Evento: OffersScreenAppear\n",
      "Proporção de usuários no grupo 1 que realizaram o evento: 0.6035\n",
      "Proporção de usuários no grupo 2 que realizaram o evento: 0.6208\n",
      "Estatística z: -1.2580821335711887\n",
      "Valor p: 0.20836205402738917\n",
      "Não há uma diferença estatisticamente significativa entre os grupos.\n",
      "--------------------------------------------------\n",
      "Comparação do grupo 248 com o grupo 247 para o evento OffersScreenAppear:\n",
      "Evento: OffersScreenAppear\n",
      "Proporção de usuários no grupo 1 que realizaram o evento: 0.6035\n",
      "Proporção de usuários no grupo 2 que realizaram o evento: 0.6049\n",
      "Estatística z: -0.1007086015299871\n",
      "Valor p: 0.919781783059226\n",
      "Não há uma diferença estatisticamente significativa entre os grupos.\n",
      "--------------------------------------------------\n",
      "Comparação do grupo 248 com o grupo 246 para o evento CartScreenAppear:\n",
      "Evento: CartScreenAppear\n",
      "Proporção de usuários no grupo 1 que realizaram o evento: 0.4848\n",
      "Proporção de usuários no grupo 2 que realizaram o evento: 0.5097\n",
      "Estatística z: -1.7598736474548398\n",
      "Valor p: 0.07842923237520125\n",
      "Não há uma diferença estatisticamente significativa entre os grupos.\n",
      "--------------------------------------------------\n",
      "Comparação do grupo 248 com o grupo 247 para o evento CartScreenAppear:\n",
      "Evento: CartScreenAppear\n",
      "Proporção de usuários no grupo 1 que realizaram o evento: 0.4848\n",
      "Proporção de usuários no grupo 2 que realizaram o evento: 0.4926\n",
      "Estatística z: -0.5554019078073092\n",
      "Valor p: 0.5786197879539782\n",
      "Não há uma diferença estatisticamente significativa entre os grupos.\n",
      "--------------------------------------------------\n",
      "Comparação do grupo 248 com o grupo 246 para o evento PaymentScreenSuccessful:\n",
      "Evento: PaymentScreenSuccessful\n",
      "Proporção de usuários no grupo 1 que realizaram o evento: 0.4655\n",
      "Proporção de usuários no grupo 2 que realizaram o evento: 0.4831\n",
      "Estatística z: -1.2473878277158326\n",
      "Valor p: 0.21225532756977972\n",
      "Não há uma diferença estatisticamente significativa entre os grupos.\n",
      "--------------------------------------------------\n",
      "Comparação do grupo 248 com o grupo 247 para o evento PaymentScreenSuccessful:\n",
      "Evento: PaymentScreenSuccessful\n",
      "Proporção de usuários no grupo 1 que realizaram o evento: 0.4655\n",
      "Proporção de usuários no grupo 2 que realizaram o evento: 0.4608\n",
      "Estatística z: 0.3353759529753951\n",
      "Valor p: 0.7373415053803964\n",
      "Não há uma diferença estatisticamente significativa entre os grupos.\n",
      "--------------------------------------------------\n"
     ]
    }
   ],
   "source": [
    "# Faça a mesma coisa para o grupo com fontes alteradas. Compare os resultados com os de cada um dos grupos de controle para cada evento isoladamente. Compare os resultados com os resultados combinados para os grupos de controle. Quais conclusões você pode tirar do experimento?\n",
    "\n",
    "# Definir o número total de testes e ajustar o nível de significância\n",
    "total_testes = 15\n",
    "nivel_significancia = 0.05\n",
    "nivel_significancia_ajustado = nivel_significancia / total_testes\n",
    "\n",
    "print(f\"Nível de significância ajustado: {nivel_significancia_ajustado}\")\n",
    "\n",
    "# Função para testar a diferença estatística entre dois grupos para um evento específico\n",
    "\n",
    "\n",
    "def testar_evento(event_name, grupo_1, grupo_2):\n",
    "    # Contar o número de usuários que realizaram o evento em cada grupo\n",
    "    users_grupo_1 = grupo_1[grupo_1['event_name'] == event_name]['device_id_hash'].nunique()\n",
    "    users_grupo_2 = grupo_2[grupo_2['event_name'] == event_name]['device_id_hash'].nunique()\n",
    "\n",
    "    # Total de usuários em cada grupo\n",
    "    total_users_grupo_1 = grupo_1['device_id_hash'].nunique()\n",
    "    total_users_grupo_2 = grupo_2['device_id_hash'].nunique()\n",
    "\n",
    "    # Proporção de usuários que realizaram o evento em cada grupo\n",
    "    proporcao_grupo_1 = users_grupo_1 / total_users_grupo_1\n",
    "    proporcao_grupo_2 = users_grupo_2 / total_users_grupo_2\n",
    "\n",
    "    # Exibir as proporções\n",
    "    print(f\"Evento: {event_name}\")\n",
    "    print(f\"Proporção de usuários no grupo 1 que realizaram o evento: {proporcao_grupo_1:.4f}\")\n",
    "    print(f\"Proporção de usuários no grupo 2 que realizaram o evento: {proporcao_grupo_2:.4f}\")\n",
    "\n",
    "    # Realizar o teste de proporções (z-test)\n",
    "    count = np.array([users_grupo_1, users_grupo_2])\n",
    "    nobs = np.array([total_users_grupo_1, total_users_grupo_2])\n",
    "\n",
    "    z_stat, p_value = pz(count, nobs)\n",
    "\n",
    "    # Exibir o resultado do teste\n",
    "    print(f\"Estatística z: {z_stat}\")\n",
    "    print(f\"Valor p: {p_value}\")\n",
    "\n",
    "    # Verificar se a diferença é significativa usando o nível de significância ajustado\n",
    "    if p_value < nivel_significancia_ajustado:\n",
    "        print(\"Há uma diferença estatisticamente significativa entre os grupos.\")\n",
    "    else:\n",
    "        print(\"Não há uma diferença estatisticamente significativa entre os grupos.\")\n",
    "\n",
    "    print(\"-\" * 50)\n",
    "\n",
    "\n",
    "# Filtrar os grupos (controle e teste)\n",
    "grupo_246 = new_df[new_df['exp_id'] == 246]\n",
    "grupo_247 = new_df[new_df['exp_id'] == 247]\n",
    "grupo_248 = new_df[new_df['exp_id'] == 248]\n",
    "\n",
    "# Realizar o teste para os eventos únicos e comparar os grupos 246 e 247\n",
    "eventos_unicos = new_df['event_name'].unique()\n",
    "\n",
    "for evento in eventos_unicos:\n",
    "    testar_evento(evento, grupo_246, grupo_247)\n",
    "\n",
    "# Comparar o grupo de teste (248) com os grupos de controle\n",
    "for evento in eventos_unicos:\n",
    "    print(f\"Comparação do grupo 248 com o grupo 246 para o evento {evento}:\")\n",
    "    testar_evento(evento, grupo_248, grupo_246)\n",
    "\n",
    "    print(f\"Comparação do grupo 248 com o grupo 247 para o evento {evento}:\")\n",
    "    testar_evento(evento, grupo_248, grupo_247)"
   ]
  },
  {
   "cell_type": "code",
   "execution_count": 164,
   "metadata": {},
   "outputs": [
    {
     "name": "stdout",
     "output_type": "stream",
     "text": [
      "Taxa de conversão do grupo A1: 48.31%\n",
      "Taxa de conversão do grupo A2: 46.08%\n",
      "Taxa de conversão do grupo B: 46.55%\n"
     ]
    }
   ],
   "source": [
    "# Verificando a taxa de conversão de de cada grupo para o evento \"Pagamento bem sucedido\".\n",
    "taxa_A1 = grupo_246[grupo_246['event_name'] == 'PaymentScreenSuccessful']['device_id_hash'].nunique() / grupo_246['device_id_hash'].nunique()\n",
    "taxa_A2 = grupo_247[grupo_247['event_name'] == 'PaymentScreenSuccessful']['device_id_hash'].nunique() / grupo_247['device_id_hash'].nunique()\n",
    "taxa_B = grupo_248[grupo_248['event_name'] == 'PaymentScreenSuccessful']['device_id_hash'].nunique() / grupo_248['device_id_hash'].nunique()\n",
    "\n",
    "print(f\"Taxa de conversão do grupo A1: {taxa_A1 * 100:.2f}%\")\n",
    "print(f\"Taxa de conversão do grupo A2: {taxa_A2 * 100:.2f}%\")\n",
    "print(f\"Taxa de conversão do grupo B: {taxa_B * 100:.2f}%\")"
   ]
  },
  {
   "cell_type": "code",
   "execution_count": 161,
   "metadata": {},
   "outputs": [
    {
     "name": "stdout",
     "output_type": "stream",
     "text": [
      "O nível de significância utilizado foi de: 0.03\n"
     ]
    }
   ],
   "source": [
    "# Qual nível de significância você definiu para testar as hipóteses estatísticas mencionadas acima? Calcule quantos testes de hipóteses estatísticas você realizou. Com um nível de significância estatística de 0,1, um de cada 10 resultados pode ser falso. Qual deveria ser o nível de significância? Se você quiser alterá-lo, execute as etapas anteriores novamente e verifique suas conclusões.\n",
    "event_count = 5 # Número de eventos únicos\n",
    "test_count = 3 # Número de testes de hipóteses para cada evento realizados\n",
    "\n",
    "# Correção de Bonferroni\n",
    "\n",
    "nivel = 0.05 / event_count * test_count\n",
    "\n",
    "print(f'O nível de significância utilizado foi de: {nivel}')\n"
   ]
  },
  {
   "cell_type": "markdown",
   "metadata": {},
   "source": [
    "# Conclusão"
   ]
  },
  {
   "cell_type": "markdown",
   "metadata": {},
   "source": [
    "- **``Embora os testes estatísticos não tenham revelado diferenças significativas entre os grupos, a análise descritiva sugere um leve padrão: o grupo de controle 1 apresentou a maior taxa de conversão, seguido pelo grupo de teste, e por último o grupo de controle 2. Esses resultados indicam que a nova fonte não compromete de forma evidente a conversão, mas também não apresenta ganhos claros. A leve variação observada pode estar associada a fatores específicos de público ou ao próprio design das fontes, sugerindo que ainda há espaço para ajustes e testes adicionais antes de sua adoção definitiva.``**"
   ]
  }
 ],
 "metadata": {
  "ExecuteTimeLog": [
   {
    "duration": 2619,
    "start_time": "2024-10-17T21:32:23.073Z"
   },
   {
    "duration": 132,
    "start_time": "2024-10-17T21:32:25.696Z"
   },
   {
    "duration": 17,
    "start_time": "2024-10-17T21:32:25.830Z"
   },
   {
    "duration": 12,
    "start_time": "2024-10-17T21:32:25.849Z"
   },
   {
    "duration": 10,
    "start_time": "2024-10-17T21:32:25.863Z"
   },
   {
    "duration": 3,
    "start_time": "2024-10-17T21:32:25.875Z"
   },
   {
    "duration": 4,
    "start_time": "2024-10-17T21:32:25.880Z"
   },
   {
    "duration": 149,
    "start_time": "2024-10-17T21:32:25.910Z"
   },
   {
    "duration": 22,
    "start_time": "2024-10-17T21:32:26.061Z"
   },
   {
    "duration": 38,
    "start_time": "2024-10-17T21:32:26.087Z"
   },
   {
    "duration": 3,
    "start_time": "2024-10-17T21:32:26.127Z"
   },
   {
    "duration": 6,
    "start_time": "2024-10-17T21:32:26.132Z"
   },
   {
    "duration": 13,
    "start_time": "2024-10-17T21:32:26.140Z"
   },
   {
    "duration": 5,
    "start_time": "2024-10-17T21:32:26.155Z"
   },
   {
    "duration": 1033,
    "start_time": "2024-10-17T21:32:26.162Z"
   },
   {
    "duration": 15,
    "start_time": "2024-10-17T21:32:27.198Z"
   },
   {
    "duration": 5,
    "start_time": "2024-10-17T21:32:27.215Z"
   },
   {
    "duration": 11,
    "start_time": "2024-10-17T21:32:27.221Z"
   },
   {
    "duration": 5,
    "start_time": "2024-10-17T21:32:27.233Z"
   },
   {
    "duration": 21,
    "start_time": "2024-10-17T21:32:27.240Z"
   },
   {
    "duration": 77,
    "start_time": "2024-10-17T21:32:27.263Z"
   },
   {
    "duration": 10,
    "start_time": "2024-10-17T21:32:27.341Z"
   },
   {
    "duration": 98,
    "start_time": "2024-10-17T21:32:27.352Z"
   },
   {
    "duration": 397,
    "start_time": "2024-10-17T21:32:27.452Z"
   },
   {
    "duration": 165,
    "start_time": "2024-10-17T21:32:27.851Z"
   },
   {
    "duration": 3,
    "start_time": "2024-10-17T21:32:28.018Z"
   },
   {
    "duration": 5,
    "start_time": "2024-10-17T21:32:28.023Z"
   },
   {
    "duration": 24,
    "start_time": "2024-10-17T21:32:28.031Z"
   },
   {
    "duration": 21,
    "start_time": "2024-10-17T21:32:28.058Z"
   },
   {
    "duration": 128,
    "start_time": "2024-10-17T21:32:28.081Z"
   },
   {
    "duration": 238,
    "start_time": "2024-10-17T21:32:28.212Z"
   },
   {
    "duration": 4,
    "start_time": "2024-10-17T21:32:28.452Z"
   },
   {
    "duration": 5,
    "start_time": "2024-10-17T21:32:35.209Z"
   }
  ],
  "kernelspec": {
   "display_name": "base",
   "language": "python",
   "name": "python3"
  },
  "language_info": {
   "codemirror_mode": {
    "name": "ipython",
    "version": 3
   },
   "file_extension": ".py",
   "mimetype": "text/x-python",
   "name": "python",
   "nbconvert_exporter": "python",
   "pygments_lexer": "ipython3",
   "version": "3.11.7"
  },
  "toc": {
   "base_numbering": 1,
   "nav_menu": {},
   "number_sections": true,
   "sideBar": true,
   "skip_h1_title": true,
   "title_cell": "Table of Contents",
   "title_sidebar": "Contents",
   "toc_cell": false,
   "toc_position": {},
   "toc_section_display": true,
   "toc_window_display": false
  }
 },
 "nbformat": 4,
 "nbformat_minor": 2
}
